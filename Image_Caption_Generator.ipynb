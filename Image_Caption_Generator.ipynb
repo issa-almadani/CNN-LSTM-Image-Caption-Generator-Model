{
  "cells": [
    {
      "cell_type": "markdown",
      "metadata": {
        "id": "d3WUfjSGxQOg"
      },
      "source": [
        "# Part 0: Argument and Import Initialization\n",
        "\n",
        "- The \"Args\" class is initialized to contain any pre-defined hyperparameters and variables used in the experiment\n",
        "- Imports consists of three sections. The fist part titled \"Google Colab Imports\" is optional and is only used to extract a zip file if the data is loaded as a zip file into google drive - the reason this is done is to unzip the data and load it into the coloab notebooks local memory for efficiency reasons. Otherwise, the data might be read in from the drive image by image during training, which greatly reduces training efficiency. This section can take around 10 minutes to complete.\n",
        "- Basic torch, pandas, and numpy imports follow, as well as modules necessary to read in and modify the images from the dataset."
      ]
    },
    {
      "cell_type": "code",
      "execution_count": 1,
      "metadata": {
        "colab": {
          "base_uri": "https://localhost:8080/"
        },
        "id": "AH6akud3DTMI",
        "outputId": "1c4515bb-9f25-4749-ef99-6b264c0a814c"
      },
      "outputs": [
        {
          "output_type": "stream",
          "name": "stderr",
          "text": [
            "/usr/local/lib/python3.10/dist-packages/torchtext/data/__init__.py:4: UserWarning: \n",
            "/!\\ IMPORTANT WARNING ABOUT TORCHTEXT STATUS /!\\ \n",
            "Torchtext is deprecated and the last released version will be 0.18 (this one). You can silence this warning by calling the following at the beginnign of your scripts: `import torchtext; torchtext.disable_torchtext_deprecation_warning()`\n",
            "  warnings.warn(torchtext._TORCHTEXT_DEPRECATION_MSG)\n",
            "/usr/local/lib/python3.10/dist-packages/torchtext/vocab/__init__.py:4: UserWarning: \n",
            "/!\\ IMPORTANT WARNING ABOUT TORCHTEXT STATUS /!\\ \n",
            "Torchtext is deprecated and the last released version will be 0.18 (this one). You can silence this warning by calling the following at the beginnign of your scripts: `import torchtext; torchtext.disable_torchtext_deprecation_warning()`\n",
            "  warnings.warn(torchtext._TORCHTEXT_DEPRECATION_MSG)\n",
            "/usr/local/lib/python3.10/dist-packages/torchtext/utils.py:4: UserWarning: \n",
            "/!\\ IMPORTANT WARNING ABOUT TORCHTEXT STATUS /!\\ \n",
            "Torchtext is deprecated and the last released version will be 0.18 (this one). You can silence this warning by calling the following at the beginnign of your scripts: `import torchtext; torchtext.disable_torchtext_deprecation_warning()`\n",
            "  warnings.warn(torchtext._TORCHTEXT_DEPRECATION_MSG)\n"
          ]
        }
      ],
      "source": [
        "# 1 GOOGLE COLAB - DATASET IMPORTS\n",
        "import os\n",
        "import random\n",
        "import time\n",
        "import threading\n",
        "from google.colab import drive, files\n",
        "\n",
        "# 2 BASIC TORCH IMPORTS\n",
        "import torch\n",
        "import torch.nn.functional as F\n",
        "import torch.nn.init as init\n",
        "from torchvision import models\n",
        "from torch.utils.data import Dataset, random_split, DataLoader, Subset\n",
        "import torch.nn as nn\n",
        "import torch.optim as optim\n",
        "from  torchtext.data.utils import get_tokenizer\n",
        "import torchvision.models as models\n",
        "from torchvision import datasets, transforms\n",
        "import torchtext as tt\n",
        "import collections\n",
        "\n",
        "# 3 READING IN IMAGES FROM DATASET\n",
        "from pycocotools.coco import COCO\n",
        "import matplotlib.pyplot as plt\n",
        "import zipfile\n",
        "from io import BytesIO\n",
        "\n",
        "# 4 TRANSFORMING IMAGES TO DATA\n",
        "from PIL import Image\n",
        "import pandas as pd\n",
        "import numpy as np\n",
        "import matplotlib.pyplot as plt\n",
        "\n",
        "# 5 BUILDING VOCABULARY FROM CAPTIONS\n",
        "from torchvision.datasets import CocoCaptions\n",
        "from nltk.tokenize import word_tokenize\n",
        "from nltk.translate.bleu_score import sentence_bleu, SmoothingFunction\n",
        "\n",
        "from torchtext.vocab import vocab"
      ]
    },
    {
      "cell_type": "code",
      "execution_count": 47,
      "metadata": {
        "id": "KlbIDoAGw_C3"
      },
      "outputs": [],
      "source": [
        "# 6 INITIALIZE ARGUMENTS\n",
        "class Args:\n",
        "    def __init__(self):\n",
        "        self.device = 'cuda' if torch.cuda.is_available() else 'cpu'\n",
        "\n",
        "        self.embedding_dim = 800\n",
        "        self.hidden_size = 2048\n",
        "        self.max_caption_length = 20\n",
        "\n",
        "        self.batch_size = 128\n",
        "        self.epochs = 20\n",
        "        self.lr = 0.00005\n",
        "\n",
        "        self.side_length = 256\n",
        "\n",
        "        self.train_img_data_path = './data/train2017'\n",
        "        self.val_img_data_path = './data/val2017'\n",
        "\n",
        "        self.train_ann_path = './data/annotations/captions_train2017.json'\n",
        "        self.val_ann_path = './data/annotations/captions_val2017.json'\n",
        "\n",
        "        self.save_dir = '/content/drive/MyDrive/data/'\n",
        "        self.ckpt_dir = '/content/drive/MyDrive/checkpoints/'\n",
        "        self.extract_dir = './data'\n",
        "\n",
        "args = Args()"
      ]
    },
    {
      "cell_type": "code",
      "execution_count": 3,
      "metadata": {
        "colab": {
          "base_uri": "https://localhost:8080/"
        },
        "id": "HfD6qZx9xtDq",
        "outputId": "f7b56339-8afb-4149-bb8a-db82515e5083"
      },
      "outputs": [
        {
          "output_type": "stream",
          "name": "stdout",
          "text": [
            "Mounted at /content/drive\n",
            "Time Taken: 0.8174309571584065 minutes\n"
          ]
        }
      ],
      "source": [
        "# 7 GOOGLE COLAB + DATASET PREPARATION\n",
        "# Note that this block could take 1 hour for both download and unzip procedures\n",
        "drive.mount('/content/drive')\n",
        "\n",
        "dataset_urls = [\n",
        "    # \"http://images.cocodataset.org/zips/train2017.zip\",\n",
        "    \"http://images.cocodataset.org/zips/val2017.zip\",\n",
        "    \"http://images.cocodataset.org/annotations/annotations_trainval2017.zip\"\n",
        "]\n",
        "\n",
        "os.makedirs(args.save_dir, exist_ok=True)\n",
        "os.makedirs(args.ckpt_dir, exist_ok=True)\n",
        "\n",
        "start_time = time.time()\n",
        "for url in dataset_urls:\n",
        "    filename = os.path.join(args.save_dir, url.split('/')[-1])\n",
        "\n",
        "    if not os.path.exists(filename):\n",
        "        os.system(f'wget {url} -P {args.save_dir}')\n",
        "\n",
        "    os.system(f'unzip -q -u {filename} -d {args.extract_dir}')\n",
        "\n",
        "end_time = time.time()\n",
        "time_taken = end_time - start_time\n",
        "print(\"Time Taken:\", time_taken / 60, \"minutes\")"
      ]
    },
    {
      "cell_type": "markdown",
      "metadata": {
        "id": "wQKgIt6gy7UD"
      },
      "source": [
        "# Part 1: Dataset Initilization\n",
        "\n",
        "- Definite the IMAGE_DATASET class with needed functions. Each image is resized to 64 x 64 pixels, and expanded to 3 channels to ensure consistency in training. The COCO module is used to associate images and image annotations in the COCO dataset.\n",
        "- Training and Test datasets are initialized from this class as divided originally in the dataset and a DataLoader is initialized\n",
        "- A vocabulary is also initialized based on the image captions loaded in from the dataset."
      ]
    },
    {
      "cell_type": "code",
      "execution_count": 4,
      "metadata": {
        "id": "n95RUTt8wk3I"
      },
      "outputs": [],
      "source": [
        "class IMAGE_DATASET(Dataset):\n",
        "    def __init__(self, annotations_file, img_dir, transform=None, target_transform=None):\n",
        "        self.img_dir = img_dir\n",
        "        self.coco = COCO(annotations_file)\n",
        "        self.transform = transform\n",
        "        self.target_transform = target_transform\n",
        "        self.img_keys = list(self.coco.imgs.keys())\n",
        "\n",
        "    def get_single_image(self, img_id):\n",
        "        # load image and annotations\n",
        "        img = self.coco.loadImgs(img_id)[0]\n",
        "        annotation_ids = self.coco.getAnnIds(img_id)\n",
        "        annotations = self.coco.loadAnns(annotation_ids)\n",
        "\n",
        "        # open and transform image to tensor with needed dimensions\n",
        "        path = os.path.join(self.img_dir, img['file_name'])\n",
        "        image = Image.open(path).convert('RGB')\n",
        "\n",
        "        if self.transform:\n",
        "            image = self.transform(image)\n",
        "\n",
        "        caption = random.choice(annotations)['caption']\n",
        "\n",
        "        # return image with random annotation choice\n",
        "        return image, caption\n",
        "\n",
        "    def __getitem__(self, index):\n",
        "        img_id = self.img_keys[index]\n",
        "        return self.get_single_image(img_id)\n",
        "\n",
        "    def __len__(self):\n",
        "        return len(self.img_keys)"
      ]
    },
    {
      "cell_type": "code",
      "execution_count": 6,
      "metadata": {
        "colab": {
          "base_uri": "https://localhost:8080/"
        },
        "id": "XKLgOMu3wukA",
        "outputId": "87079a06-3f0c-4e5c-bf36-8f7cc12daedc"
      },
      "outputs": [
        {
          "output_type": "stream",
          "name": "stdout",
          "text": [
            "loading annotations into memory...\n",
            "Done (t=0.14s)\n",
            "creating index...\n",
            "index created!\n",
            "loading annotations into memory...\n",
            "Done (t=1.40s)\n",
            "creating index...\n",
            "index created!\n"
          ]
        }
      ],
      "source": [
        "# initialize image transforms\n",
        "train_transform = transforms.Compose([\n",
        "    transforms.Resize(args.side_length),              # resize images to same side_length\n",
        "    transforms.RandomCrop(args.side_length),          # Randomly crop image to side_length\n",
        "    transforms.RandomHorizontalFlip(),                # Random image flip horizontally\n",
        "    transforms.ToTensor(),                            # Convert image to a tensor\n",
        "    transforms.Normalize(mean=[0.485, 0.456, 0.406],\n",
        "                         std=[0.229, 0.224, 0.225])   # Normalize image tensor for resnet\n",
        "])\n",
        "\n",
        "test_transform = transforms.Compose([\n",
        "    transforms.Resize(args.side_length),              # Resize images to same side_length\n",
        "    transforms.CenterCrop(args.side_length),          # Center crop image to side_length\n",
        "    transforms.ToTensor(),                            # Convert image to a tensor\n",
        "    transforms.Normalize(mean=[0.485, 0.456, 0.406],\n",
        "                         std=[0.229, 0.224, 0.225])   # Normalize image tensor for resnet\n",
        "])\n",
        "\n",
        "# Initialize the full dataset\n",
        "train_dataset = IMAGE_DATASET(args.train_ann_path,\n",
        "                             args.train_img_data_path,\n",
        "                             train_transform)\n",
        "\n",
        "test_dataset = IMAGE_DATASET(args.val_ann_path,\n",
        "                             args.val_img_data_path,\n",
        "                             test_transform)\n",
        "\n",
        "# initialize the data loaders\n",
        "image_train_loader = DataLoader(dataset=train_dataset,\n",
        "                                batch_size=args.batch_size,\n",
        "                                shuffle=True,\n",
        "                                num_workers=4,\n",
        "                                pin_memory=True)\n",
        "image_test_loader = DataLoader(dataset=test_dataset,\n",
        "                                batch_size=args.batch_size,\n",
        "                                shuffle=False,\n",
        "                                num_workers=4,\n",
        "                                pin_memory=True)\n",
        "\n",
        "# initialize vocabulary\n",
        "tokenizer = get_tokenizer(\"basic_english\")\n",
        "counter = collections.Counter()\n",
        "\n",
        "for ann in list(train_dataset.coco.anns.values()) + list(test_dataset.coco.anns.values()):\n",
        "    caption = ann['caption'].strip()\n",
        "    tokens = tokenizer(caption)\n",
        "    tokens = ['<sos>'] + tokens + ['<eos>']\n",
        "    counter.update(tokens)\n",
        "\n",
        "sorted_by_freq = sorted(counter.items(), key=lambda x: x[1], reverse=True)\n",
        "ordered_dict = collections.OrderedDict(sorted_by_freq)\n",
        "vocabulary = vocab(ordered_dict)\n",
        "vocabulary.append_token('<pad>')"
      ]
    },
    {
      "cell_type": "code",
      "execution_count": 7,
      "metadata": {
        "colab": {
          "base_uri": "https://localhost:8080/",
          "height": 756
        },
        "id": "VJave75S7VGh",
        "outputId": "fa8baf72-9cae-4cb1-8611-b1d2cbd52a45"
      },
      "outputs": [
        {
          "output_type": "display_data",
          "data": {
            "text/plain": [
              "<Figure size 1000x800 with 1 Axes>"
            ],
            "image/png": "[encoded data removed]"
          },
          "metadata": {}
        }
      ],
      "source": [
        "# Vocabulary Analysis:\n",
        "most_common_words = counter.most_common(20)\n",
        "\n",
        "words, counts = zip(*most_common_words)\n",
        "\n",
        "plt.figure(figsize=(10, 8))\n",
        "plt.bar(words, counts, color='blue')\n",
        "plt.xlabel('Words')\n",
        "plt.ylabel('Counts')\n",
        "plt.title('20 Most Common Words')\n",
        "plt.xticks(rotation=45)\n",
        "plt.show()"
      ]
    },
    {
      "cell_type": "markdown",
      "metadata": {
        "id": "x72QCYiw0cj6"
      },
      "source": [
        "# Part 2: Neural Network Initialization\n",
        "- Two primary layers of the neural network are initialized. First a CNN layer that consists of a VGG-based model\n",
        "- An LSTM layer that uses the output of the CNN layer with 4096 features as a hidden input, the start token as the input, and passes each generated token as the input in the loop. The sentence is padded or cut at 20 tokens to ensure simplicity and consistency in data size during training."
      ]
    },
    {
      "cell_type": "code",
      "execution_count": 8,
      "metadata": {
        "id": "-35z-S4xww4x"
      },
      "outputs": [],
      "source": [
        "class Model(nn.Module):\n",
        "    def __init__(self, vocab_size):\n",
        "        super(Model, self).__init__()\n",
        "\n",
        "        # PART 0: PARAMS\n",
        "        self.vocab_size = vocab_size\n",
        "\n",
        "        # PART 1: CNN\n",
        "        resnet =  models.resnet50(pretrained=True)\n",
        "        modules = list(resnet.children())[:-1]\n",
        "        self.CNN = nn.Sequential(*modules)\n",
        "\n",
        "        self.additional_layers = nn.Sequential(\n",
        "          nn.PReLU(),\n",
        "          nn.Dropout(p=0.5),\n",
        "          nn.Linear(in_features=2048, out_features=args.embedding_dim)\n",
        "        )\n",
        "\n",
        "        self.FC_CNN = nn.Linear(args.embedding_dim, args.hidden_size)\n",
        "\n",
        "        # PART 2: LSTM\n",
        "        self.embedding = nn.Embedding(self.vocab_size, args.embedding_dim)\n",
        "        self.LSTM = nn.LSTM(args.embedding_dim, args.hidden_size, batch_first = True)\n",
        "        self.FC = nn.Linear(args.hidden_size, self.vocab_size)\n",
        "\n",
        "        # PART 3: ATTENTION\n",
        "        self.attn = nn.Linear(args.hidden_size, args.hidden_size)\n",
        "        self.v = nn.Parameter(torch.rand(args.hidden_size))\n",
        "\n",
        "        self._initialize_weights()\n",
        "\n",
        "    def _initialize_weights(self):\n",
        "        for m in self.modules():\n",
        "            if isinstance(m, nn.Linear):\n",
        "                init.xavier_uniform_(m.weight)\n",
        "                if m.bias is not None:\n",
        "                    m.bias.data.fill_(0)\n",
        "            elif isinstance(m, nn.Embedding):\n",
        "                init.xavier_uniform_(m.weight)\n",
        "            elif isinstance(m, nn.LSTM):\n",
        "                for name, param in m.named_parameters():\n",
        "                    if 'weight' in name:\n",
        "                        init.xavier_uniform_(param)\n",
        "                    elif 'bias' in name:\n",
        "                        param.data.fill_(0)\n",
        "\n",
        "    def forward(self, x, captions = None):\n",
        "        with torch.no_grad():\n",
        "            cnn_features = self.CNN(x)\n",
        "\n",
        "        cnn_features = cnn_features.view(cnn_features.size(0), -1)\n",
        "        cnn_features = self.additional_layers(cnn_features)\n",
        "\n",
        "        batch_size = x.size(0)\n",
        "        h_i = torch.zeros(1, batch_size, args.hidden_size).to(args.device)\n",
        "        c_i = torch.zeros_like(h_i).to(args.device)\n",
        "\n",
        "        # INFERENCE MODE:\n",
        "        if captions is None:\n",
        "            out_logits = torch.zeros((batch_size, args.max_caption_length, self.vocab_size), device=args.device)\n",
        "\n",
        "            for t in range(args.max_caption_length):\n",
        "                if t == 0:\n",
        "                    input_word = cnn_features.unsqueeze(1)\n",
        "                else:\n",
        "                    input_word = self.embedding(current_word)\n",
        "\n",
        "                output, (h_i, c_i) = self.LSTM(input_word, (h_i, c_i))\n",
        "\n",
        "                energy = torch.tanh(self.attn(output) + h_i[-1].unsqueeze(1))\n",
        "                energy = energy @ self.v.unsqueeze(-1)\n",
        "                attention_weights = torch.softmax(energy.squeeze(-1), dim=1)\n",
        "                context = torch.bmm(attention_weights.unsqueeze(1), output)\n",
        "                context = context.squeeze(1)\n",
        "\n",
        "                logits = self.FC(output.squeeze(1) + context)\n",
        "                _, predicted_word = logits.max(1)\n",
        "\n",
        "                out_logits[:, t, :] = logits\n",
        "                current_word = predicted_word.unsqueeze(1)\n",
        "\n",
        "            return out_logits\n",
        "\n",
        "        # TRAINING MODE:\n",
        "        else:\n",
        "            out_logits = torch.zeros((batch_size, args.max_caption_length, self.vocab_size), device=args.device)\n",
        "            embed = self.embedding(captions)\n",
        "            embed = torch.cat((cnn_features.unsqueeze(1), embed[:, :-1, :]), dim=1)\n",
        "\n",
        "            for t in range(args.max_caption_length):\n",
        "                input_word = embed[:, t, :].unsqueeze(1)\n",
        "                output, (h_i, c_i) = self.LSTM(input_word, (h_i, c_i))\n",
        "\n",
        "                energy = torch.tanh(self.attn(output) + h_i[-1].unsqueeze(1))\n",
        "                energy = energy @ self.v.unsqueeze(-1)\n",
        "                attention_weights = torch.softmax(energy.squeeze(-1), dim=1)\n",
        "                context = torch.bmm(attention_weights.unsqueeze(1), output)\n",
        "                context = context.squeeze(1)\n",
        "\n",
        "                logits = self.FC(output.squeeze(1) + context)\n",
        "                out_logits[:, t, :] = logits\n",
        "\n",
        "            return out_logits"
      ]
    },
    {
      "cell_type": "code",
      "execution_count": 9,
      "metadata": {
        "colab": {
          "base_uri": "https://localhost:8080/"
        },
        "id": "HbIFPVxGwytj",
        "outputId": "4a5cb1a8-9ef7-4a18-9420-370da812a6ae"
      },
      "outputs": [
        {
          "output_type": "stream",
          "name": "stderr",
          "text": [
            "/usr/local/lib/python3.10/dist-packages/torchvision/models/_utils.py:208: UserWarning: The parameter 'pretrained' is deprecated since 0.13 and may be removed in the future, please use 'weights' instead.\n",
            "  warnings.warn(\n",
            "/usr/local/lib/python3.10/dist-packages/torchvision/models/_utils.py:223: UserWarning: Arguments other than a weight enum or `None` for 'weights' are deprecated since 0.13 and may be removed in the future. The current behavior is equivalent to passing `weights=ResNet50_Weights.IMAGENET1K_V1`. You can also use `weights=ResNet50_Weights.DEFAULT` to get the most up-to-date weights.\n",
            "  warnings.warn(msg)\n",
            "Downloading: \"https://download.pytorch.org/models/resnet50-0676ba61.pth\" to /root/.cache/torch/hub/checkpoints/resnet50-0676ba61.pth\n",
            "100%|██████████| 97.8M/97.8M [00:00<00:00, 139MB/s]\n"
          ]
        }
      ],
      "source": [
        "# INITIALIZE NETWORK\n",
        "model = Model(len(vocabulary))\n",
        "model = model.to(args.device)"
      ]
    },
    {
      "cell_type": "markdown",
      "metadata": {
        "id": "g53WQoN30j6F"
      },
      "source": [
        "# Part 3: Training\n",
        "\n",
        "This part consists of the primary training loop over the desired number of epochs and specified batch size. The labels are tokenized, padded / shortened as needed, and the <sos> and <eos> tokens are added. The CNN output is then fed into the LSTM and a backpropagation is used based on the loss."
      ]
    },
    {
      "cell_type": "code",
      "execution_count": 10,
      "metadata": {
        "colab": {
          "base_uri": "https://localhost:8080/"
        },
        "id": "bRcXMSmTXvsJ",
        "outputId": "6fcd7a98-ea9a-4af6-d0e7-f12710fe3706"
      },
      "outputs": [
        {
          "output_type": "stream",
          "name": "stdout",
          "text": [
            "Using device cuda\n"
          ]
        }
      ],
      "source": [
        "print('Using device {}'.format(args.device))\n",
        "\n",
        "# initialize tokenizer, loss, optimizer, scheduler\n",
        "tokenizer = tt.data.utils.get_tokenizer(\"basic_english\")\n",
        "loss_func = nn.CrossEntropyLoss(ignore_index = vocabulary['<pad>']).to(args.device)\n",
        "optimizer = optim.Adam(model.parameters(), lr = args.lr)\n",
        "scheduler = optim.lr_scheduler.StepLR(optimizer, step_size = 10, gamma = 0.1)\n",
        "loss_history = []\n",
        "start_epoch = 0"
      ]
    },
    {
      "cell_type": "code",
      "execution_count": 11,
      "metadata": {
        "id": "0N3XFgZwXyTN"
      },
      "outputs": [],
      "source": [
        "# training helpers\n",
        "def pad_sequences(sequences, max_length, pad_token='<pad>'):\n",
        "    return [seq + [pad_token] * (max_length - len(seq)) if len(seq) < max_length else seq[:max_length] for seq in sequences]\n",
        "\n",
        "def remove_noise(sequences):\n",
        "    return [[token for token in seq if len(str(token)) > 1] for seq in sequences]\n",
        "\n",
        "def tokenize_and_pad(labels, vocab, max_length = args.max_caption_length):\n",
        "    tokenized_labels = [['<sos>'] + tokenizer(label) + ['<eos>'] for label in labels]\n",
        "    filtered_labels = remove_noise(tokenized_labels)\n",
        "    padded_labels = pad_sequences(filtered_labels, max_length)\n",
        "    indexed_labels = [[vocab[token] for token in seq] for seq in padded_labels]\n",
        "    return indexed_labels\n",
        "\n",
        "def process_tokens(predicted_tokens):\n",
        "    processed_strings = []\n",
        "    for tokens in predicted_tokens:\n",
        "        tokens = tokens[1:tokens.index(\"<eos>\")]\n",
        "        processed_string = ' '.join(tokens)\n",
        "        processed_strings.append(processed_string)\n",
        "\n",
        "    return processed_strings"
      ]
    },
    {
      "cell_type": "code",
      "execution_count": 12,
      "metadata": {
        "id": "2Uc9YWvH4C_h"
      },
      "outputs": [],
      "source": [
        "ckpt_idx = 19\n",
        "ckpt_path = f'{args.ckpt_dir}/checkpoint_{ckpt_idx}.pth'\n",
        "checkpoint = torch.load(ckpt_path)\n",
        "model.load_state_dict(checkpoint['model_state_dict'])\n",
        "optimizer.load_state_dict(checkpoint['optimizer_state_dict'])\n",
        "start_epoch = checkpoint['epoch'] + 1\n",
        "loss_history = checkpoint['loss_history']"
      ]
    },
    {
      "cell_type": "code",
      "execution_count": null,
      "metadata": {
        "id": "cxIAvYyBwznD"
      },
      "outputs": [],
      "source": [
        "# Main Training Loop\n",
        "def train(num_epochs):\n",
        "    for idx_e in range(start_epoch, num_epochs):\n",
        "\n",
        "        model.train()\n",
        "\n",
        "        for idx, batch in enumerate(image_train_loader):\n",
        "            DATA, LABELS = batch\n",
        "\n",
        "            # Tokenize and pad labels\n",
        "            tokenized_labels = tokenize_and_pad(LABELS, vocabulary)\n",
        "\n",
        "            # Convert to tensor\n",
        "            target_sequences = torch.tensor(tokenized_labels, dtype=torch.long).to(args.device)\n",
        "\n",
        "            # Get LSTM predictions\n",
        "            pred = model(DATA.to(args.device), target_sequences)\n",
        "\n",
        "            pred_loss = pred.view(-1, pred.size(-1))\n",
        "\n",
        "            target_sequences_loss = target_sequences.view(-1)\n",
        "\n",
        "            # Calculate loss\n",
        "            loss = loss_func(pred_loss, target_sequences_loss)\n",
        "            loss_history.append(loss.item())\n",
        "\n",
        "            # Backward and optimize\n",
        "            optimizer.zero_grad()\n",
        "            loss.backward()\n",
        "            optimizer.step()\n",
        "\n",
        "            if idx % 100 == 0:\n",
        "                # PRINT EPOCH + LOSS INFO\n",
        "                print(f'Epoch [{idx_e+1}/{num_epochs}], Step [{idx+1}/{len(image_train_loader)}], Loss: {loss.item():.4f}, Perplexity: {np.exp(loss.item()):5.4f}')\n",
        "\n",
        "                # PRINT SAMPLE SENTENCE:\n",
        "                probabilities = torch.softmax(pred[0], dim=-1)\n",
        "                predicted_indices = torch.argmax(probabilities, dim=-1)\n",
        "                predicted_tokens = vocabulary.lookup_tokens(predicted_indices.tolist())\n",
        "                print(predicted_tokens, vocabulary.lookup_tokens(target_sequences[0].tolist()))\n",
        "\n",
        "        scheduler.step()\n",
        "\n",
        "        # if idx_e != 0 and (idx_e + 1) % 2 == 0:\n",
        "        ckpt_path = f'{args.ckpt_dir}//checkpoint_{idx_e}.pth'\n",
        "        torch.save({\n",
        "              'epoch': idx_e,\n",
        "              'model_state_dict': model.state_dict(),\n",
        "              'optimizer_state_dict': optimizer.state_dict(),\n",
        "              'scheduler_state_dict': scheduler.state_dict(),\n",
        "              'loss_history': loss_history\n",
        "        }, ckpt_path)\n",
        "\n",
        "\n",
        "    ckpt_path = f'{args.ckpt_dir}/model.pth'\n",
        "    torch.save({'model': model}, ckpt_path)\n",
        "\n",
        "# START TRAINING\n",
        "train(args.epochs)"
      ]
    },
    {
      "cell_type": "markdown",
      "metadata": {
        "id": "fkle3dDk0maw"
      },
      "source": [
        "# Part 4: Testing, Validation, and Analysis"
      ]
    },
    {
      "cell_type": "code",
      "source": [
        "# Plotting Training Loss\n",
        "\n",
        "ckpt_idx = 19\n",
        "ckpt_path = f'{args.ckpt_dir}/checkpoint_{ckpt_idx}.pth'\n",
        "checkpoint = torch.load(ckpt_path)\n",
        "\n",
        "loss_history = checkpoint['loss_history']\n",
        "\n",
        "train_loss = []\n",
        "\n",
        "for i in range(args.epochs):\n",
        "    epoch_loss = 0\n",
        "\n",
        "    for j in range(i * 925, (i + 1) * 925):\n",
        "        epoch_loss += loss_history[j] * 128\n",
        "\n",
        "    epoch_loss /= len(image_train_loader.dataset)\n",
        "\n",
        "    train_loss.append(epoch_loss)\n",
        "\n",
        "plt.figure()\n",
        "plt.plot(list(range(1, 21)), train_loss, marker='o', linestyle='-', color='b')\n",
        "plt.title('Loss per Epoch')\n",
        "plt.xlabel('Epoch')\n",
        "plt.ylabel('Loss')\n",
        "plt.grid(True)\n",
        "plt.show()"
      ],
      "metadata": {
        "id": "6EYnj8yGw4nx"
      },
      "execution_count": null,
      "outputs": []
    },
    {
      "cell_type": "code",
      "execution_count": null,
      "metadata": {
        "id": "Aqc0YDCM-cfn"
      },
      "outputs": [],
      "source": [
        "# Sampling: Visualize Samples from Test Dataset\n",
        "model.eval()\n",
        "\n",
        "random_indices = random.sample(range(len(test_dataset.img_keys)), 20)\n",
        "subset = Subset(test_dataset, random_indices)\n",
        "sample, true_labels = next(iter(DataLoader(subset, batch_size=20, shuffle=False)))\n",
        "\n",
        "images = sample.to('cpu').permute(0, 2, 3, 1).numpy()\n",
        "predicted_labels = model(sample.to(args.device))\n",
        "probabilities = torch.softmax(predicted_labels, dim=-1)\n",
        "predicted_indices = torch.argmax(probabilities, dim=-1)\n",
        "predicted_tokens = [vocabulary.lookup_tokens(i.tolist()) for i in predicted_indices]\n",
        "\n",
        "for i, (img, label, pred) in enumerate(zip(images, true_labels, process_tokens(predicted_tokens))):\n",
        "    fig, ax = plt.subplots(figsize=(1.5, 1.5))\n",
        "    ax.imshow(img)\n",
        "    ax.axis('off')\n",
        "    ax.set_title(f\"Sample True Label: {label}\\nPredicted Label: {pred}\", fontsize=8)\n",
        "    plt.tight_layout()\n",
        "    plt.show()"
      ]
    },
    {
      "cell_type": "code",
      "execution_count": null,
      "metadata": {
        "id": "jzta4gQHFpa2"
      },
      "outputs": [],
      "source": [
        "def test():\n",
        "\n",
        "    model.eval()\n",
        "\n",
        "    test_loss = 0\n",
        "    bleu1_scores = []\n",
        "    bleu4_scores = []\n",
        "\n",
        "    with torch.no_grad():\n",
        "        for idx, batch in enumerate(image_test_loader):\n",
        "            DATA, LABELS = batch\n",
        "\n",
        "            tokenized_labels = tokenize_and_pad(LABELS, vocabulary)\n",
        "            target_sequences = torch.tensor(tokenized_labels, dtype=torch.long).to(args.device)\n",
        "\n",
        "            pred = model(DATA.to(args.device))\n",
        "\n",
        "            pred_loss = pred.view(-1, pred.size(-1))\n",
        "\n",
        "            target_sequences_loss = target_sequences.view(-1)\n",
        "\n",
        "            loss = loss_func(pred_loss, target_sequences_loss)\n",
        "\n",
        "            test_loss += loss.item() * DATA.size(0)\n",
        "\n",
        "            probabilities = torch.softmax(pred, dim=-1)\n",
        "            predicted_indices = torch.argmax(probabilities, dim=-1)\n",
        "            predicted_tokens = [vocabulary.lookup_tokens(i.tolist()) for i in predicted_indices]\n",
        "            candidates = process_tokens(predicted_tokens)\n",
        "\n",
        "            for i in range(len(DATA)):\n",
        "                reference = [LABELS[i].split()]\n",
        "                bleu1_score = sentence_bleu(reference, candidates[i].split(), weights=(1, 0, 0, 0), smoothing_function=SmoothingFunction().method1)\n",
        "                bleu4_score = sentence_bleu(reference, candidates[i].split(), smoothing_function=SmoothingFunction().method1)\n",
        "\n",
        "                bleu1_scores.append(bleu1_score)\n",
        "                bleu4_scores.append(bleu4_score)\n",
        "\n",
        "        test_loss /= len(image_test_loader.dataset)\n",
        "        avg_bleu1_score = sum(bleu1_scores) / len(bleu1_scores)\n",
        "        avg_bleu4_score = sum(bleu4_scores) / len(bleu4_scores)\n",
        "\n",
        "\n",
        "    return test_loss, avg_bleu1_score, avg_bleu4_score\n",
        "\n",
        "\n",
        "test()"
      ]
    },
    {
      "cell_type": "markdown",
      "metadata": {
        "id": "a9xHvPAe0rSw"
      },
      "source": [
        "# Part 5: Export Model"
      ]
    },
    {
      "cell_type": "code",
      "execution_count": null,
      "metadata": {
        "id": "r8-1TzjiJZ1x"
      },
      "outputs": [],
      "source": [
        "image = Image.open('/content/74112381776__56567E7C-B834-4B34-94D7-DEA355A53424.jpeg').convert('RGB')\n",
        "\n",
        "image = test_transform(image).unsqueeze(0)\n",
        "import torchvision\n",
        "image = torchvision.transforms.functional.rotate(image, 270.0)\n",
        "\n",
        "pred = model(image.to(args.device))\n",
        "probabilities = torch.softmax(pred, dim=-1)\n",
        "predicted_indices = torch.argmax(probabilities, dim=-1)\n",
        "predicted_tokens = [vocabulary.lookup_tokens(i.tolist()) for i in predicted_indices]\n",
        "label = process_tokens(predicted_tokens)\n",
        "\n",
        "image = image.permute(0, 2, 3, 1).numpy()\n",
        "\n",
        "fig, ax = plt.subplots(figsize=(5, 5))\n",
        "ax.imshow(image[0])\n",
        "ax.axis('off')\n",
        "ax.set_title(f\"Predicted Label: {label}\", fontsize=8)\n",
        "plt.tight_layout()\n",
        "plt.show()"
      ]
    },
    {
      "cell_type": "code",
      "execution_count": null,
      "metadata": {
        "id": "D4vdLmALupI7"
      },
      "outputs": [],
      "source": [
        "torch.save({\n",
        "    'model': model,\n",
        "    'vocab': vocabulary\n",
        "}, f'{args.ckpt_dir}/final_model')"
      ]
    }
  ],
  "metadata": {
    "accelerator": "GPU",
    "colab": {
      "gpuType": "T4",
      "provenance": []
    },
    "kernelspec": {
      "display_name": "Python 3",
      "name": "python3"
    },
    "language_info": {
      "name": "python"
    }
  },
  "nbformat": 4,
  "nbformat_minor": 0
}