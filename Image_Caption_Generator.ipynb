{
  "nbformat": 4,
  "nbformat_minor": 0,
  "metadata": {
    "colab": {
      "provenance": [],
      "gpuType": "T4"
    },
    "kernelspec": {
      "name": "python3",
      "display_name": "Python 3"
    },
    "language_info": {
      "name": "python"
    },
    "accelerator": "GPU"
  },
  "cells": [
    {
      "cell_type": "markdown",
      "source": [
        "# Part 0: Argument and Import Initialization\n",
        "\n",
        "- The \"Args\" class is initialized to contain any pre-defined hyperparameters and variables used in the experiment\n",
        "- Imports consists of three sections. The fist part titled \"Google Colab Imports\" is optional and is only used to extract a zip file if the data is loaded as a zip file into google drive - the reason this is done is to unzip the data and load it into the coloab notebooks local memory for efficiency reasons. Otherwise, the data might be read in from the drive image by image during training, which greatly reduces training efficiency. This section can take around 10 minutes to complete.\n",
        "- Basic torch, pandas, and numpy imports follow, as well as modules necessary to read in and modify the images from the dataset."
      ],
      "metadata": {
        "id": "d3WUfjSGxQOg"
      }
    },
    {
      "cell_type": "code",
      "source": [
        "class Args:\n",
        "    def __init__(self):\n",
        "        self.device = 'cuda' if torch.cuda.is_available() else 'cpu'\n",
        "        self.embedding_dim = 128\n",
        "        self.batch_size = 20\n",
        "        self.epochs = 50\n",
        "        self.img_h = 256\n",
        "        self.img_w = 256\n",
        "        self.max_caption_length = 20\n",
        "        self.img_data_path = '/content/drive/MyDrive/Image Caption Generator/data/val2017'\n",
        "        self.caption_path = '/content/drive/MyDrive/Image Caption Generator/data/captions_val2017.json'"
      ],
      "metadata": {
        "id": "KlbIDoAGw_C3"
      },
      "execution_count": null,
      "outputs": []
    },
    {
      "cell_type": "code",
      "source": [
        "# 1 GOOGLE COLAB - DATASET IMPORTS\n",
        "import os\n",
        "import random\n",
        "import time\n",
        "\n",
        "from google.colab import drive\n",
        "drive.mount('/content/drive')\n",
        "\n",
        "start_time = time.time()\n",
        "!unzip -q -u '/content/drive/MyDrive/Image Caption Generator/data/val2017.zip' -d '/content/drive/MyDrive/Image Caption Generator/data'\n",
        "end_time = time.time()\n",
        "time_taken = end_time - start_time\n",
        "print(\"Time taken:\", time_taken/60, \"minutes\")\n",
        "\n",
        "# 2 BASIC TORCH IMPORTS\n",
        "import torch\n",
        "from torch.utils.data import Dataset, random_split, DataLoader\n",
        "import torch.nn as nn\n",
        "import torch.optim as optim\n",
        "from  torchtext.data.utils import get_tokenizer\n",
        "import torchvision.models as models\n",
        "from torchvision import datasets, transforms\n",
        "import torchtext as tt\n",
        "import collections\n",
        "\n",
        "# 3 READING IN IMAGES FROM DATASET\n",
        "from pycocotools.coco import COCO\n",
        "import matplotlib.pyplot as plt\n",
        "import zipfile\n",
        "from io import BytesIO\n",
        "\n",
        "# 4 TRANSFORMING IMAGES TO DATA\n",
        "from PIL import Image\n",
        "import pandas as pd\n",
        "import numpy as np\n",
        "import matplotlib.pyplot as plt\n",
        "\n",
        "# 5 BUILDING VOCABULARY FROM CAPTIONS\n",
        "from torchvision.datasets import CocoCaptions\n",
        "from nltk.tokenize import word_tokenize\n",
        "from torchtext.vocab import vocab\n",
        "\n",
        "# 6 INITIALIZE ARGUMENTS\n",
        "args = Args()"
      ],
      "metadata": {
        "colab": {
          "base_uri": "https://localhost:8080/"
        },
        "id": "HfD6qZx9xtDq",
        "outputId": "0c352ea3-5b07-4fc9-cbeb-dff25cc0cae5"
      },
      "execution_count": null,
      "outputs": [
        {
          "output_type": "stream",
          "name": "stdout",
          "text": [
            "Mounted at /content/drive\n",
            "Time taken: 1.0881329735120138 minutes\n"
          ]
        },
        {
          "output_type": "stream",
          "name": "stderr",
          "text": [
            "/usr/local/lib/python3.10/dist-packages/torchtext/data/__init__.py:4: UserWarning: \n",
            "/!\\ IMPORTANT WARNING ABOUT TORCHTEXT STATUS /!\\ \n",
            "Torchtext is deprecated and the last released version will be 0.18 (this one). You can silence this warning by calling the following at the beginnign of your scripts: `import torchtext; torchtext.disable_torchtext_deprecation_warning()`\n",
            "  warnings.warn(torchtext._TORCHTEXT_DEPRECATION_MSG)\n",
            "/usr/local/lib/python3.10/dist-packages/torchtext/vocab/__init__.py:4: UserWarning: \n",
            "/!\\ IMPORTANT WARNING ABOUT TORCHTEXT STATUS /!\\ \n",
            "Torchtext is deprecated and the last released version will be 0.18 (this one). You can silence this warning by calling the following at the beginnign of your scripts: `import torchtext; torchtext.disable_torchtext_deprecation_warning()`\n",
            "  warnings.warn(torchtext._TORCHTEXT_DEPRECATION_MSG)\n",
            "/usr/local/lib/python3.10/dist-packages/torchtext/utils.py:4: UserWarning: \n",
            "/!\\ IMPORTANT WARNING ABOUT TORCHTEXT STATUS /!\\ \n",
            "Torchtext is deprecated and the last released version will be 0.18 (this one). You can silence this warning by calling the following at the beginnign of your scripts: `import torchtext; torchtext.disable_torchtext_deprecation_warning()`\n",
            "  warnings.warn(torchtext._TORCHTEXT_DEPRECATION_MSG)\n"
          ]
        }
      ]
    },
    {
      "cell_type": "markdown",
      "source": [
        "# Part 1: Dataset Initilization\n",
        "\n",
        "- Definite the IMAGE_DATASET class with needed functions. Each image is resized to 64 x 64 pixels, and expanded to 3 channels to ensure consistency in training. The COCO module is used to associate images and image annotations in the COCO dataset.\n",
        "- Training and Test datasets are initialized from this class as divided originally in the dataset and a DataLoader is initialized\n",
        "- A vocabulary is also initialized based on the image captions loaded in from the dataset."
      ],
      "metadata": {
        "id": "wQKgIt6gy7UD"
      }
    },
    {
      "cell_type": "code",
      "source": [
        "class IMAGE_DATASET(Dataset):\n",
        "    def __init__(self, annotations_file, img_dir, transform=None, target_transform=None):\n",
        "        self.img_dir = img_dir\n",
        "        self.coco = COCO(annotations_file)\n",
        "        self.transform = transform\n",
        "        self.target_transform = target_transform\n",
        "        self.img_keys = list(self.coco.imgs.keys())\n",
        "\n",
        "    def get_single_image(self, img_id):\n",
        "        # load image and annotations\n",
        "        img = self.coco.loadImgs(img_id)[0]\n",
        "        annotation_ids = self.coco.getAnnIds(img_id)\n",
        "        annotations = self.coco.loadAnns(annotation_ids)\n",
        "\n",
        "        # open and transform image to tensor with needed dimensions\n",
        "        path = os.path.join(self.img_dir, img['file_name'])\n",
        "        image = Image.open(path).convert('RGB')\n",
        "\n",
        "        if self.transform:\n",
        "            image = self.transform(image)\n",
        "\n",
        "        caption = random.choice(annotations)['caption']\n",
        "\n",
        "        # return image with random annotation choice\n",
        "        return image, caption\n",
        "\n",
        "    def __getitem__(self, index):\n",
        "        img_id = self.img_keys[index]\n",
        "        return self.get_single_image(img_id)\n",
        "\n",
        "    def __len__(self):\n",
        "        return len(self.img_keys)"
      ],
      "metadata": {
        "id": "n95RUTt8wk3I"
      },
      "execution_count": null,
      "outputs": []
    },
    {
      "cell_type": "code",
      "source": [
        "transform = transforms.Compose([\n",
        "    transforms.Resize((args.img_h, args.img_w)),  # Resize the image\n",
        "    transforms.ToTensor()                         # Convert the image to a tensor\n",
        "])\n",
        "\n",
        "\n",
        "# Initialize the full dataset\n",
        "full_dataset = IMAGE_DATASET(args.caption_path,\n",
        "                             args.img_data_path,\n",
        "                             transform)\n",
        "\n",
        "train_size = int(0.8 * len(full_dataset))  # 80% for training\n",
        "test_size = len(full_dataset) - train_size  # 20% for testing\n",
        "\n",
        "image_train, image_test = random_split(full_dataset, [train_size, test_size])\n",
        "\n",
        "# initialize the data loaders\n",
        "image_train_loader = DataLoader(dataset=image_train,\n",
        "                                batch_size=args.batch_size,\n",
        "                                shuffle=True)\n",
        "image_test_loader = DataLoader(dataset=image_test,\n",
        "                               batch_size=args.batch_size,\n",
        "                               shuffle=False)\n",
        "\n",
        "# initialize vocabulary\n",
        "tokenizer = get_tokenizer(\"basic_english\")\n",
        "counter = collections.Counter()\n",
        "\n",
        "for ann in full_dataset.coco.anns.values():\n",
        "    caption = ann['caption'].strip()\n",
        "    tokens = tokenizer(caption)\n",
        "    tokens = ['<sos>'] + tokens + ['<eos>']\n",
        "    counter.update(tokens)\n",
        "\n",
        "sorted_by_freq = sorted(counter.items(), key=lambda x: x[1], reverse=True)\n",
        "ordered_dict = collections.OrderedDict(sorted_by_freq)\n",
        "vocabulary = vocab(ordered_dict)\n",
        "vocabulary.append_token('<pad>')"
      ],
      "metadata": {
        "id": "XKLgOMu3wukA",
        "colab": {
          "base_uri": "https://localhost:8080/"
        },
        "outputId": "6822c6f1-f4dc-4bc1-bef6-de213f241671"
      },
      "execution_count": null,
      "outputs": [
        {
          "output_type": "stream",
          "name": "stdout",
          "text": [
            "loading annotations into memory...\n",
            "Done (t=0.52s)\n",
            "creating index...\n",
            "index created!\n"
          ]
        }
      ]
    },
    {
      "cell_type": "markdown",
      "source": [
        "# Part 2: Neural Network Initialization\n",
        "- Two primary layers of the neural network are initialized. First a CNN layer that consists of a VGG-based model\n",
        "- An LSTM layer that uses the output of the CNN layer with 4096 features as a hidden input, the start token as the input, and passes each generated token as the input in the loop. The sentence is padded or cut at 20 tokens to ensure simplicity and consistency in data size during training."
      ],
      "metadata": {
        "id": "x72QCYiw0cj6"
      }
    },
    {
      "cell_type": "code",
      "source": [
        "# NEURAL NETWORK\n",
        "\n",
        "class Model(nn.Module):\n",
        "    def __init__(self, cnn_output_size, vocab_size, embedding_dim, hidden_size):\n",
        "        super(Model, self).__init__()\n",
        "\n",
        "        # self.CNN = nn.Sequential(\n",
        "        #     nn.Conv2d(3, 64, 3, stride=1, padding=1),\n",
        "        #     nn.ReLU(),\n",
        "        #     nn.Conv2d(64, 64, 3, stride=1, padding=1),\n",
        "        #     nn.BatchNorm2d(64),\n",
        "        #     nn.ReLU(),\n",
        "        #     nn.MaxPool2d(2, stride=2),\n",
        "        #     nn.Conv2d(64, 128, 3, stride=1, padding=1),\n",
        "        #     nn.ReLU(),\n",
        "        #     nn.Conv2d(128, 128, 3, stride=1, padding=1),\n",
        "        #     nn.BatchNorm2d(128),\n",
        "        #     nn.ReLU(),\n",
        "        #     nn.MaxPool2d(2, stride=2),\n",
        "        #     nn.Conv2d(128, 256, 3, stride=1, padding=1),\n",
        "        #     nn.ReLU(),\n",
        "        #     nn.Conv2d(256, 256, 3, stride=1, padding=1),\n",
        "        #     nn.BatchNorm2d(256),\n",
        "        #     nn.ReLU(),\n",
        "        #     nn.MaxPool2d(2, stride=2),\n",
        "        #     nn.Conv2d(256, 512, 3, stride=1, padding=1),\n",
        "        #     nn.ReLU(),\n",
        "        #     nn.Conv2d(512, 512, 3, stride=1, padding=1),\n",
        "        #     nn.BatchNorm2d(512),\n",
        "        #     nn.ReLU(),\n",
        "        #     nn.MaxPool2d(2, stride=2),\n",
        "        #     nn.Flatten(),\n",
        "        #     nn.Linear(8192, 4096),\n",
        "        #     nn.ReLU(),\n",
        "        #     nn.Dropout(0.5),\n",
        "        #     nn.Linear(4096, 4096),\n",
        "        # )\n",
        "\n",
        "        vgg = models.vgg16(pretrained=True)\n",
        "        self.CNN = nn.Sequential(*list(vgg.features.children()))\n",
        "        for param in self.CNN.parameters():\n",
        "            param.requires_grad = False\n",
        "\n",
        "        self.additional_layers = nn.Sequential(\n",
        "            nn.Flatten(),\n",
        "            nn.Linear(512 * 8 * 8, 4096),\n",
        "            nn.ReLU(),\n",
        "            nn.Dropout(0.5),\n",
        "            nn.Linear(4096, 4096)\n",
        "        )\n",
        "\n",
        "        self.embedding = nn.Embedding(vocab_size, embedding_dim)\n",
        "        self.LSTM = nn.LSTM(embedding_dim, hidden_size, batch_first = True)\n",
        "        self.attention = nn.Linear(hidden_size, hidden_size)\n",
        "        self.FC = nn.Linear(hidden_size, vocab_size)\n",
        "        self.FC_CNN = nn.Linear(cnn_output_size, hidden_size)\n",
        "\n",
        "        self.cnn_output_size = cnn_output_size\n",
        "        self.hidden_size = hidden_size\n",
        "\n",
        "    def forward(self, x, captions = None):\n",
        "        with torch.no_grad():\n",
        "            cnn_features = self.CNN(x)\n",
        "\n",
        "        cnn_features = self.additional_layers(cnn_features)\n",
        "        h_i = self.FC_CNN(cnn_features)\n",
        "        c_i = torch.zeros_like(h_i).to(args.device)\n",
        "\n",
        "        if captions is None:\n",
        "          # INFERENCE MODE:\n",
        "          captions = []\n",
        "          current_word = torch.zeros((args.batch_size, 1), dtype=torch.long, device=args.device)\n",
        "\n",
        "          for _ in range(20):\n",
        "            embed = self.embedding(current_word)\n",
        "            output, (h_i, c_i) = self.LSTM(embed, (h_i, c_i))\n",
        "            logits = self.FC(output.squeeze(1))\n",
        "            _, predicted_word = logits.max(1)\n",
        "            captions.append(predicted_word.unsqueeze(1))\n",
        "            current_word = predicted_word.unsqueeze(1)\n",
        "\n",
        "          captions = torch.cat(captions, 1)\n",
        "\n",
        "          return captions\n",
        "        else:\n",
        "            # Training mode:\n",
        "            embed = self.embedding(captions)\n",
        "            embed = torch.cat((torch.zeros(args.batch_size, 1, embed.size(2), device=args.device), embed[:, :-1, :]), dim=1)\n",
        "            lstm_out, _ = self.LSTM(embed, (h_i.unsqueeze(0), c_i.unsqueeze(0)))\n",
        "            logits = self.FC(lstm_out)\n",
        "\n",
        "            return logits\n",
        "\n",
        "\n"
      ],
      "metadata": {
        "id": "-35z-S4xww4x"
      },
      "execution_count": null,
      "outputs": []
    },
    {
      "cell_type": "code",
      "source": [
        "# INITIALIZE NETWORK\n",
        "device = args.device\n",
        "lstm = Model(4096, len(vocabulary), 512, 4096)\n",
        "lstm = lstm.to(device)"
      ],
      "metadata": {
        "id": "HbIFPVxGwytj",
        "colab": {
          "base_uri": "https://localhost:8080/"
        },
        "outputId": "3b84d604-876f-4ff3-96d3-e7697eeeb861"
      },
      "execution_count": null,
      "outputs": [
        {
          "output_type": "stream",
          "name": "stderr",
          "text": [
            "/usr/local/lib/python3.10/dist-packages/torchvision/models/_utils.py:208: UserWarning: The parameter 'pretrained' is deprecated since 0.13 and may be removed in the future, please use 'weights' instead.\n",
            "  warnings.warn(\n",
            "/usr/local/lib/python3.10/dist-packages/torchvision/models/_utils.py:223: UserWarning: Arguments other than a weight enum or `None` for 'weights' are deprecated since 0.13 and may be removed in the future. The current behavior is equivalent to passing `weights=VGG16_Weights.IMAGENET1K_V1`. You can also use `weights=VGG16_Weights.DEFAULT` to get the most up-to-date weights.\n",
            "  warnings.warn(msg)\n",
            "Downloading: \"https://download.pytorch.org/models/vgg16-397923af.pth\" to /root/.cache/torch/hub/checkpoints/vgg16-397923af.pth\n",
            "100%|██████████| 528M/528M [00:06<00:00, 89.8MB/s]\n"
          ]
        }
      ]
    },
    {
      "cell_type": "markdown",
      "source": [
        "# Part 3: Training\n",
        "\n",
        "This part consists of the primary training loop over the desired number of epochs and specified batch size. The labels are tokenized, padded / shortened as needed, and the <sos> and <eos> tokens are added. The CNN output is then fed into the LSTM and a backpropagation is used based on the loss."
      ],
      "metadata": {
        "id": "g53WQoN30j6F"
      }
    },
    {
      "cell_type": "code",
      "source": [
        "# TRAINING\n",
        "print('Using device {}'.format(device))\n",
        "\n",
        "tokenizer = tt.data.utils.get_tokenizer(\"basic_english\")\n",
        "loss_func = nn.CrossEntropyLoss(ignore_index = vocabulary['<pad>']).cuda() if torch.cuda.is_available() else nn.CrossEntropyLoss(ignore_index = vocabulary['<pad>'])\n",
        "\n",
        "optimizer = optim.Adam(lstm.parameters(), lr=0.0005, betas=(0.9, 0.999), eps=1e-08, weight_decay=1e-5)\n",
        "scheduler = optim.lr_scheduler.StepLR(optimizer, step_size=10, gamma=0.1)\n",
        "\n",
        "def pad_sequences(sequences, max_length, pad_token='<pad>'):\n",
        "    return [seq + [pad_token] * (max_length - len(seq)) if len(seq) < max_length else seq[:max_length] for seq in sequences]\n",
        "\n",
        "def tokenize_and_pad(labels, vocab, max_length=20):\n",
        "    tokenized_labels = [['<sos>'] + tokenizer(label) + ['<eos>'] for label in labels]\n",
        "    tokenized_labels = pad_sequences(tokenized_labels, max_length)\n",
        "    indexed_labels = [[vocab[token] for token in seq] for seq in tokenized_labels]\n",
        "    return indexed_labels\n",
        "\n",
        "def train(num_epochs):\n",
        "    train_losses = []\n",
        "\n",
        "    plt.ion()\n",
        "    fig, ax = plt.subplots()\n",
        "\n",
        "    for idx_e in range(num_epochs):\n",
        "\n",
        "        lstm.train()\n",
        "\n",
        "        for idx, batch in enumerate(image_train_loader):\n",
        "\n",
        "            DATA, LABELS = batch\n",
        "\n",
        "            # Tokenize and pad labels\n",
        "            tokenized_labels = tokenize_and_pad(LABELS, vocabulary)\n",
        "\n",
        "            # Convert to tensor\n",
        "            target_sequences = torch.tensor(tokenized_labels, dtype=torch.long).to(device)\n",
        "\n",
        "            # Get LSTM predictions\n",
        "            pred = lstm(DATA.to(device), target_sequences)\n",
        "\n",
        "            pred_loss = pred.view(-1, pred.size(-1))\n",
        "\n",
        "            target_sequences_loss = target_sequences.view(-1)\n",
        "\n",
        "            # Calculate loss\n",
        "            loss = loss_func(pred_loss, target_sequences_loss)\n",
        "\n",
        "            # Backward and optimize\n",
        "            optimizer.zero_grad()\n",
        "            loss.backward()\n",
        "            torch.nn.utils.clip_grad_norm_(lstm.parameters(), max_norm=1.0)\n",
        "            optimizer.step()\n",
        "\n",
        "            train_losses.append(loss.item())\n",
        "\n",
        "            if idx % 10 == 0:\n",
        "                # PRINT EPOCH + LOSS INFO\n",
        "                print(f'Epoch [{idx_e+1}/{num_epochs}], Step [{idx+1}/{len(image_train_loader)}], Loss: {loss.item():.4f}')\n",
        "\n",
        "                ax.clear()\n",
        "                ax.plot(train_losses, label='Training Loss')\n",
        "                ax.set_xlabel('Iterations')\n",
        "                ax.set_ylabel('Loss')\n",
        "                ax.legend()\n",
        "                fig.canvas.draw()\n",
        "                plt.pause(0.1)\n",
        "\n",
        "                # PRINT SAMPLE SENTENCE:\n",
        "                probabilities = torch.softmax(pred[0], dim=-1)\n",
        "                predicted_indices = torch.argmax(probabilities, dim=-1)\n",
        "                predicted_tokens = vocabulary.lookup_tokens(predicted_indices.tolist())\n",
        "                print(predicted_tokens, vocabulary.lookup_tokens(target_sequences[0].tolist()))\n",
        "\n",
        "        scheduler.step()\n",
        "\n",
        "    plt.ioff()\n",
        "    plt.show()\n",
        "\n",
        "train(50)"
      ],
      "metadata": {
        "id": "cxIAvYyBwznD",
        "colab": {
          "base_uri": "https://localhost:8080/",
          "height": 742
        },
        "outputId": "b8a5512e-6593-46be-9b64-422f2df0c180"
      },
      "execution_count": null,
      "outputs": [
        {
          "output_type": "stream",
          "name": "stdout",
          "text": [
            "Using device cpu\n"
          ]
        },
        {
          "output_type": "error",
          "ename": "KeyboardInterrupt",
          "evalue": "",
          "traceback": [
            "\u001b[0;31m---------------------------------------------------------------------------\u001b[0m",
            "\u001b[0;31mKeyboardInterrupt\u001b[0m                         Traceback (most recent call last)",
            "\u001b[0;32m<ipython-input-7-32bfa48fd2f8>\u001b[0m in \u001b[0;36m<cell line: 80>\u001b[0;34m()\u001b[0m\n\u001b[1;32m     78\u001b[0m     \u001b[0mplt\u001b[0m\u001b[0;34m.\u001b[0m\u001b[0mshow\u001b[0m\u001b[0;34m(\u001b[0m\u001b[0;34m)\u001b[0m\u001b[0;34m\u001b[0m\u001b[0;34m\u001b[0m\u001b[0m\n\u001b[1;32m     79\u001b[0m \u001b[0;34m\u001b[0m\u001b[0m\n\u001b[0;32m---> 80\u001b[0;31m \u001b[0mtrain\u001b[0m\u001b[0;34m(\u001b[0m\u001b[0;36m50\u001b[0m\u001b[0;34m)\u001b[0m\u001b[0;34m\u001b[0m\u001b[0;34m\u001b[0m\u001b[0m\n\u001b[0m",
            "\u001b[0;32m<ipython-input-7-32bfa48fd2f8>\u001b[0m in \u001b[0;36mtrain\u001b[0;34m(num_epochs)\u001b[0m\n\u001b[1;32m     38\u001b[0m \u001b[0;34m\u001b[0m\u001b[0m\n\u001b[1;32m     39\u001b[0m             \u001b[0;31m# Get LSTM predictions\u001b[0m\u001b[0;34m\u001b[0m\u001b[0;34m\u001b[0m\u001b[0m\n\u001b[0;32m---> 40\u001b[0;31m             \u001b[0mpred\u001b[0m \u001b[0;34m=\u001b[0m \u001b[0mlstm\u001b[0m\u001b[0;34m(\u001b[0m\u001b[0mDATA\u001b[0m\u001b[0;34m.\u001b[0m\u001b[0mto\u001b[0m\u001b[0;34m(\u001b[0m\u001b[0mdevice\u001b[0m\u001b[0;34m)\u001b[0m\u001b[0;34m,\u001b[0m \u001b[0mtarget_sequences\u001b[0m\u001b[0;34m)\u001b[0m\u001b[0;34m\u001b[0m\u001b[0;34m\u001b[0m\u001b[0m\n\u001b[0m\u001b[1;32m     41\u001b[0m \u001b[0;34m\u001b[0m\u001b[0m\n\u001b[1;32m     42\u001b[0m             \u001b[0mpred_loss\u001b[0m \u001b[0;34m=\u001b[0m \u001b[0mpred\u001b[0m\u001b[0;34m.\u001b[0m\u001b[0mview\u001b[0m\u001b[0;34m(\u001b[0m\u001b[0;34m-\u001b[0m\u001b[0;36m1\u001b[0m\u001b[0;34m,\u001b[0m \u001b[0mpred\u001b[0m\u001b[0;34m.\u001b[0m\u001b[0msize\u001b[0m\u001b[0;34m(\u001b[0m\u001b[0;34m-\u001b[0m\u001b[0;36m1\u001b[0m\u001b[0;34m)\u001b[0m\u001b[0;34m)\u001b[0m\u001b[0;34m\u001b[0m\u001b[0;34m\u001b[0m\u001b[0m\n",
            "\u001b[0;32m/usr/local/lib/python3.10/dist-packages/torch/nn/modules/module.py\u001b[0m in \u001b[0;36m_wrapped_call_impl\u001b[0;34m(self, *args, **kwargs)\u001b[0m\n\u001b[1;32m   1530\u001b[0m             \u001b[0;32mreturn\u001b[0m \u001b[0mself\u001b[0m\u001b[0;34m.\u001b[0m\u001b[0m_compiled_call_impl\u001b[0m\u001b[0;34m(\u001b[0m\u001b[0;34m*\u001b[0m\u001b[0margs\u001b[0m\u001b[0;34m,\u001b[0m \u001b[0;34m**\u001b[0m\u001b[0mkwargs\u001b[0m\u001b[0;34m)\u001b[0m  \u001b[0;31m# type: ignore[misc]\u001b[0m\u001b[0;34m\u001b[0m\u001b[0;34m\u001b[0m\u001b[0m\n\u001b[1;32m   1531\u001b[0m         \u001b[0;32melse\u001b[0m\u001b[0;34m:\u001b[0m\u001b[0;34m\u001b[0m\u001b[0;34m\u001b[0m\u001b[0m\n\u001b[0;32m-> 1532\u001b[0;31m             \u001b[0;32mreturn\u001b[0m \u001b[0mself\u001b[0m\u001b[0;34m.\u001b[0m\u001b[0m_call_impl\u001b[0m\u001b[0;34m(\u001b[0m\u001b[0;34m*\u001b[0m\u001b[0margs\u001b[0m\u001b[0;34m,\u001b[0m \u001b[0;34m**\u001b[0m\u001b[0mkwargs\u001b[0m\u001b[0;34m)\u001b[0m\u001b[0;34m\u001b[0m\u001b[0;34m\u001b[0m\u001b[0m\n\u001b[0m\u001b[1;32m   1533\u001b[0m \u001b[0;34m\u001b[0m\u001b[0m\n\u001b[1;32m   1534\u001b[0m     \u001b[0;32mdef\u001b[0m \u001b[0m_call_impl\u001b[0m\u001b[0;34m(\u001b[0m\u001b[0mself\u001b[0m\u001b[0;34m,\u001b[0m \u001b[0;34m*\u001b[0m\u001b[0margs\u001b[0m\u001b[0;34m,\u001b[0m \u001b[0;34m**\u001b[0m\u001b[0mkwargs\u001b[0m\u001b[0;34m)\u001b[0m\u001b[0;34m:\u001b[0m\u001b[0;34m\u001b[0m\u001b[0;34m\u001b[0m\u001b[0m\n",
            "\u001b[0;32m/usr/local/lib/python3.10/dist-packages/torch/nn/modules/module.py\u001b[0m in \u001b[0;36m_call_impl\u001b[0;34m(self, *args, **kwargs)\u001b[0m\n\u001b[1;32m   1539\u001b[0m                 \u001b[0;32mor\u001b[0m \u001b[0m_global_backward_pre_hooks\u001b[0m \u001b[0;32mor\u001b[0m \u001b[0m_global_backward_hooks\u001b[0m\u001b[0;34m\u001b[0m\u001b[0;34m\u001b[0m\u001b[0m\n\u001b[1;32m   1540\u001b[0m                 or _global_forward_hooks or _global_forward_pre_hooks):\n\u001b[0;32m-> 1541\u001b[0;31m             \u001b[0;32mreturn\u001b[0m \u001b[0mforward_call\u001b[0m\u001b[0;34m(\u001b[0m\u001b[0;34m*\u001b[0m\u001b[0margs\u001b[0m\u001b[0;34m,\u001b[0m \u001b[0;34m**\u001b[0m\u001b[0mkwargs\u001b[0m\u001b[0;34m)\u001b[0m\u001b[0;34m\u001b[0m\u001b[0;34m\u001b[0m\u001b[0m\n\u001b[0m\u001b[1;32m   1542\u001b[0m \u001b[0;34m\u001b[0m\u001b[0m\n\u001b[1;32m   1543\u001b[0m         \u001b[0;32mtry\u001b[0m\u001b[0;34m:\u001b[0m\u001b[0;34m\u001b[0m\u001b[0;34m\u001b[0m\u001b[0m\n",
            "\u001b[0;32m<ipython-input-5-b6a91acb468c>\u001b[0m in \u001b[0;36mforward\u001b[0;34m(self, x, captions)\u001b[0m\n\u001b[1;32m     61\u001b[0m     \u001b[0;32mdef\u001b[0m \u001b[0mforward\u001b[0m\u001b[0;34m(\u001b[0m\u001b[0mself\u001b[0m\u001b[0;34m,\u001b[0m \u001b[0mx\u001b[0m\u001b[0;34m,\u001b[0m \u001b[0mcaptions\u001b[0m \u001b[0;34m=\u001b[0m \u001b[0;32mNone\u001b[0m\u001b[0;34m)\u001b[0m\u001b[0;34m:\u001b[0m\u001b[0;34m\u001b[0m\u001b[0;34m\u001b[0m\u001b[0m\n\u001b[1;32m     62\u001b[0m         \u001b[0;32mwith\u001b[0m \u001b[0mtorch\u001b[0m\u001b[0;34m.\u001b[0m\u001b[0mno_grad\u001b[0m\u001b[0;34m(\u001b[0m\u001b[0;34m)\u001b[0m\u001b[0;34m:\u001b[0m\u001b[0;34m\u001b[0m\u001b[0;34m\u001b[0m\u001b[0m\n\u001b[0;32m---> 63\u001b[0;31m             \u001b[0mcnn_features\u001b[0m \u001b[0;34m=\u001b[0m \u001b[0mself\u001b[0m\u001b[0;34m.\u001b[0m\u001b[0mCNN\u001b[0m\u001b[0;34m(\u001b[0m\u001b[0mx\u001b[0m\u001b[0;34m)\u001b[0m\u001b[0;34m\u001b[0m\u001b[0;34m\u001b[0m\u001b[0m\n\u001b[0m\u001b[1;32m     64\u001b[0m \u001b[0;34m\u001b[0m\u001b[0m\n\u001b[1;32m     65\u001b[0m         \u001b[0mcnn_features\u001b[0m \u001b[0;34m=\u001b[0m \u001b[0mself\u001b[0m\u001b[0;34m.\u001b[0m\u001b[0madditional_layers\u001b[0m\u001b[0;34m(\u001b[0m\u001b[0mcnn_features\u001b[0m\u001b[0;34m)\u001b[0m\u001b[0;34m\u001b[0m\u001b[0;34m\u001b[0m\u001b[0m\n",
            "\u001b[0;32m/usr/local/lib/python3.10/dist-packages/torch/nn/modules/module.py\u001b[0m in \u001b[0;36m_wrapped_call_impl\u001b[0;34m(self, *args, **kwargs)\u001b[0m\n\u001b[1;32m   1530\u001b[0m             \u001b[0;32mreturn\u001b[0m \u001b[0mself\u001b[0m\u001b[0;34m.\u001b[0m\u001b[0m_compiled_call_impl\u001b[0m\u001b[0;34m(\u001b[0m\u001b[0;34m*\u001b[0m\u001b[0margs\u001b[0m\u001b[0;34m,\u001b[0m \u001b[0;34m**\u001b[0m\u001b[0mkwargs\u001b[0m\u001b[0;34m)\u001b[0m  \u001b[0;31m# type: ignore[misc]\u001b[0m\u001b[0;34m\u001b[0m\u001b[0;34m\u001b[0m\u001b[0m\n\u001b[1;32m   1531\u001b[0m         \u001b[0;32melse\u001b[0m\u001b[0;34m:\u001b[0m\u001b[0;34m\u001b[0m\u001b[0;34m\u001b[0m\u001b[0m\n\u001b[0;32m-> 1532\u001b[0;31m             \u001b[0;32mreturn\u001b[0m \u001b[0mself\u001b[0m\u001b[0;34m.\u001b[0m\u001b[0m_call_impl\u001b[0m\u001b[0;34m(\u001b[0m\u001b[0;34m*\u001b[0m\u001b[0margs\u001b[0m\u001b[0;34m,\u001b[0m \u001b[0;34m**\u001b[0m\u001b[0mkwargs\u001b[0m\u001b[0;34m)\u001b[0m\u001b[0;34m\u001b[0m\u001b[0;34m\u001b[0m\u001b[0m\n\u001b[0m\u001b[1;32m   1533\u001b[0m \u001b[0;34m\u001b[0m\u001b[0m\n\u001b[1;32m   1534\u001b[0m     \u001b[0;32mdef\u001b[0m \u001b[0m_call_impl\u001b[0m\u001b[0;34m(\u001b[0m\u001b[0mself\u001b[0m\u001b[0;34m,\u001b[0m \u001b[0;34m*\u001b[0m\u001b[0margs\u001b[0m\u001b[0;34m,\u001b[0m \u001b[0;34m**\u001b[0m\u001b[0mkwargs\u001b[0m\u001b[0;34m)\u001b[0m\u001b[0;34m:\u001b[0m\u001b[0;34m\u001b[0m\u001b[0;34m\u001b[0m\u001b[0m\n",
            "\u001b[0;32m/usr/local/lib/python3.10/dist-packages/torch/nn/modules/module.py\u001b[0m in \u001b[0;36m_call_impl\u001b[0;34m(self, *args, **kwargs)\u001b[0m\n\u001b[1;32m   1539\u001b[0m                 \u001b[0;32mor\u001b[0m \u001b[0m_global_backward_pre_hooks\u001b[0m \u001b[0;32mor\u001b[0m \u001b[0m_global_backward_hooks\u001b[0m\u001b[0;34m\u001b[0m\u001b[0;34m\u001b[0m\u001b[0m\n\u001b[1;32m   1540\u001b[0m                 or _global_forward_hooks or _global_forward_pre_hooks):\n\u001b[0;32m-> 1541\u001b[0;31m             \u001b[0;32mreturn\u001b[0m \u001b[0mforward_call\u001b[0m\u001b[0;34m(\u001b[0m\u001b[0;34m*\u001b[0m\u001b[0margs\u001b[0m\u001b[0;34m,\u001b[0m \u001b[0;34m**\u001b[0m\u001b[0mkwargs\u001b[0m\u001b[0;34m)\u001b[0m\u001b[0;34m\u001b[0m\u001b[0;34m\u001b[0m\u001b[0m\n\u001b[0m\u001b[1;32m   1542\u001b[0m \u001b[0;34m\u001b[0m\u001b[0m\n\u001b[1;32m   1543\u001b[0m         \u001b[0;32mtry\u001b[0m\u001b[0;34m:\u001b[0m\u001b[0;34m\u001b[0m\u001b[0;34m\u001b[0m\u001b[0m\n",
            "\u001b[0;32m/usr/local/lib/python3.10/dist-packages/torch/nn/modules/container.py\u001b[0m in \u001b[0;36mforward\u001b[0;34m(self, input)\u001b[0m\n\u001b[1;32m    215\u001b[0m     \u001b[0;32mdef\u001b[0m \u001b[0mforward\u001b[0m\u001b[0;34m(\u001b[0m\u001b[0mself\u001b[0m\u001b[0;34m,\u001b[0m \u001b[0minput\u001b[0m\u001b[0;34m)\u001b[0m\u001b[0;34m:\u001b[0m\u001b[0;34m\u001b[0m\u001b[0;34m\u001b[0m\u001b[0m\n\u001b[1;32m    216\u001b[0m         \u001b[0;32mfor\u001b[0m \u001b[0mmodule\u001b[0m \u001b[0;32min\u001b[0m \u001b[0mself\u001b[0m\u001b[0;34m:\u001b[0m\u001b[0;34m\u001b[0m\u001b[0;34m\u001b[0m\u001b[0m\n\u001b[0;32m--> 217\u001b[0;31m             \u001b[0minput\u001b[0m \u001b[0;34m=\u001b[0m \u001b[0mmodule\u001b[0m\u001b[0;34m(\u001b[0m\u001b[0minput\u001b[0m\u001b[0;34m)\u001b[0m\u001b[0;34m\u001b[0m\u001b[0;34m\u001b[0m\u001b[0m\n\u001b[0m\u001b[1;32m    218\u001b[0m         \u001b[0;32mreturn\u001b[0m \u001b[0minput\u001b[0m\u001b[0;34m\u001b[0m\u001b[0;34m\u001b[0m\u001b[0m\n\u001b[1;32m    219\u001b[0m \u001b[0;34m\u001b[0m\u001b[0m\n",
            "\u001b[0;32m/usr/local/lib/python3.10/dist-packages/torch/nn/modules/module.py\u001b[0m in \u001b[0;36m_wrapped_call_impl\u001b[0;34m(self, *args, **kwargs)\u001b[0m\n\u001b[1;32m   1530\u001b[0m             \u001b[0;32mreturn\u001b[0m \u001b[0mself\u001b[0m\u001b[0;34m.\u001b[0m\u001b[0m_compiled_call_impl\u001b[0m\u001b[0;34m(\u001b[0m\u001b[0;34m*\u001b[0m\u001b[0margs\u001b[0m\u001b[0;34m,\u001b[0m \u001b[0;34m**\u001b[0m\u001b[0mkwargs\u001b[0m\u001b[0;34m)\u001b[0m  \u001b[0;31m# type: ignore[misc]\u001b[0m\u001b[0;34m\u001b[0m\u001b[0;34m\u001b[0m\u001b[0m\n\u001b[1;32m   1531\u001b[0m         \u001b[0;32melse\u001b[0m\u001b[0;34m:\u001b[0m\u001b[0;34m\u001b[0m\u001b[0;34m\u001b[0m\u001b[0m\n\u001b[0;32m-> 1532\u001b[0;31m             \u001b[0;32mreturn\u001b[0m \u001b[0mself\u001b[0m\u001b[0;34m.\u001b[0m\u001b[0m_call_impl\u001b[0m\u001b[0;34m(\u001b[0m\u001b[0;34m*\u001b[0m\u001b[0margs\u001b[0m\u001b[0;34m,\u001b[0m \u001b[0;34m**\u001b[0m\u001b[0mkwargs\u001b[0m\u001b[0;34m)\u001b[0m\u001b[0;34m\u001b[0m\u001b[0;34m\u001b[0m\u001b[0m\n\u001b[0m\u001b[1;32m   1533\u001b[0m \u001b[0;34m\u001b[0m\u001b[0m\n\u001b[1;32m   1534\u001b[0m     \u001b[0;32mdef\u001b[0m \u001b[0m_call_impl\u001b[0m\u001b[0;34m(\u001b[0m\u001b[0mself\u001b[0m\u001b[0;34m,\u001b[0m \u001b[0;34m*\u001b[0m\u001b[0margs\u001b[0m\u001b[0;34m,\u001b[0m \u001b[0;34m**\u001b[0m\u001b[0mkwargs\u001b[0m\u001b[0;34m)\u001b[0m\u001b[0;34m:\u001b[0m\u001b[0;34m\u001b[0m\u001b[0;34m\u001b[0m\u001b[0m\n",
            "\u001b[0;32m/usr/local/lib/python3.10/dist-packages/torch/nn/modules/module.py\u001b[0m in \u001b[0;36m_call_impl\u001b[0;34m(self, *args, **kwargs)\u001b[0m\n\u001b[1;32m   1539\u001b[0m                 \u001b[0;32mor\u001b[0m \u001b[0m_global_backward_pre_hooks\u001b[0m \u001b[0;32mor\u001b[0m \u001b[0m_global_backward_hooks\u001b[0m\u001b[0;34m\u001b[0m\u001b[0;34m\u001b[0m\u001b[0m\n\u001b[1;32m   1540\u001b[0m                 or _global_forward_hooks or _global_forward_pre_hooks):\n\u001b[0;32m-> 1541\u001b[0;31m             \u001b[0;32mreturn\u001b[0m \u001b[0mforward_call\u001b[0m\u001b[0;34m(\u001b[0m\u001b[0;34m*\u001b[0m\u001b[0margs\u001b[0m\u001b[0;34m,\u001b[0m \u001b[0;34m**\u001b[0m\u001b[0mkwargs\u001b[0m\u001b[0;34m)\u001b[0m\u001b[0;34m\u001b[0m\u001b[0;34m\u001b[0m\u001b[0m\n\u001b[0m\u001b[1;32m   1542\u001b[0m \u001b[0;34m\u001b[0m\u001b[0m\n\u001b[1;32m   1543\u001b[0m         \u001b[0;32mtry\u001b[0m\u001b[0;34m:\u001b[0m\u001b[0;34m\u001b[0m\u001b[0;34m\u001b[0m\u001b[0m\n",
            "\u001b[0;32m/usr/local/lib/python3.10/dist-packages/torch/nn/modules/conv.py\u001b[0m in \u001b[0;36mforward\u001b[0;34m(self, input)\u001b[0m\n\u001b[1;32m    458\u001b[0m \u001b[0;34m\u001b[0m\u001b[0m\n\u001b[1;32m    459\u001b[0m     \u001b[0;32mdef\u001b[0m \u001b[0mforward\u001b[0m\u001b[0;34m(\u001b[0m\u001b[0mself\u001b[0m\u001b[0;34m,\u001b[0m \u001b[0minput\u001b[0m\u001b[0;34m:\u001b[0m \u001b[0mTensor\u001b[0m\u001b[0;34m)\u001b[0m \u001b[0;34m->\u001b[0m \u001b[0mTensor\u001b[0m\u001b[0;34m:\u001b[0m\u001b[0;34m\u001b[0m\u001b[0;34m\u001b[0m\u001b[0m\n\u001b[0;32m--> 460\u001b[0;31m         \u001b[0;32mreturn\u001b[0m \u001b[0mself\u001b[0m\u001b[0;34m.\u001b[0m\u001b[0m_conv_forward\u001b[0m\u001b[0;34m(\u001b[0m\u001b[0minput\u001b[0m\u001b[0;34m,\u001b[0m \u001b[0mself\u001b[0m\u001b[0;34m.\u001b[0m\u001b[0mweight\u001b[0m\u001b[0;34m,\u001b[0m \u001b[0mself\u001b[0m\u001b[0;34m.\u001b[0m\u001b[0mbias\u001b[0m\u001b[0;34m)\u001b[0m\u001b[0;34m\u001b[0m\u001b[0;34m\u001b[0m\u001b[0m\n\u001b[0m\u001b[1;32m    461\u001b[0m \u001b[0;34m\u001b[0m\u001b[0m\n\u001b[1;32m    462\u001b[0m \u001b[0;32mclass\u001b[0m \u001b[0mConv3d\u001b[0m\u001b[0;34m(\u001b[0m\u001b[0m_ConvNd\u001b[0m\u001b[0;34m)\u001b[0m\u001b[0;34m:\u001b[0m\u001b[0;34m\u001b[0m\u001b[0;34m\u001b[0m\u001b[0m\n",
            "\u001b[0;32m/usr/local/lib/python3.10/dist-packages/torch/nn/modules/conv.py\u001b[0m in \u001b[0;36m_conv_forward\u001b[0;34m(self, input, weight, bias)\u001b[0m\n\u001b[1;32m    454\u001b[0m                             \u001b[0mweight\u001b[0m\u001b[0;34m,\u001b[0m \u001b[0mbias\u001b[0m\u001b[0;34m,\u001b[0m \u001b[0mself\u001b[0m\u001b[0;34m.\u001b[0m\u001b[0mstride\u001b[0m\u001b[0;34m,\u001b[0m\u001b[0;34m\u001b[0m\u001b[0;34m\u001b[0m\u001b[0m\n\u001b[1;32m    455\u001b[0m                             _pair(0), self.dilation, self.groups)\n\u001b[0;32m--> 456\u001b[0;31m         return F.conv2d(input, weight, bias, self.stride,\n\u001b[0m\u001b[1;32m    457\u001b[0m                         self.padding, self.dilation, self.groups)\n\u001b[1;32m    458\u001b[0m \u001b[0;34m\u001b[0m\u001b[0m\n",
            "\u001b[0;31mKeyboardInterrupt\u001b[0m: "
          ]
        },
        {
          "output_type": "display_data",
          "data": {
            "text/plain": [
              "<Figure size 640x480 with 1 Axes>"
            ],
            "image/png": "[encoded data removed]"
          },
          "metadata": {}
        }
      ]
    },
    {
      "cell_type": "code",
      "source": [
        "lstm.eval()\n",
        "\n",
        "for idx, batch in enumerate(image_train_loader):\n",
        "            DATA, LABELS = batch\n",
        "\n",
        "            # Tokenize and pad labels\n",
        "            tokenized_labels = tokenize_and_pad(LABELS, vocabulary)\n",
        "\n",
        "            # Convert to tensor\n",
        "            target_sequences = torch.tensor(tokenized_labels, dtype=torch.long).to(device)\n",
        "\n",
        "            # Get CNN output\n",
        "            cnn_output = cnn(DATA.to(device))\n",
        "\n",
        "            # Get LSTM predictions\n",
        "            pred = lstm(cnn_output)\n",
        "\n",
        "\n",
        "\n",
        "\n",
        "\n",
        "            break"
      ],
      "metadata": {
        "id": "TXKaWX_gx39V"
      },
      "execution_count": null,
      "outputs": []
    },
    {
      "cell_type": "markdown",
      "source": [
        "# Part 4: Testing, Validation, and Analysis"
      ],
      "metadata": {
        "id": "fkle3dDk0maw"
      }
    },
    {
      "cell_type": "code",
      "source": [
        "def get_accuracy():\n",
        "  pass\n",
        "\n",
        "def sample():\n",
        "  pass\n",
        "\n",
        "get_accuracy()\n",
        "sample()"
      ],
      "metadata": {
        "id": "QsRIugxiuowK"
      },
      "execution_count": null,
      "outputs": []
    },
    {
      "cell_type": "markdown",
      "source": [
        "# Part 5: Export Model"
      ],
      "metadata": {
        "id": "a9xHvPAe0rSw"
      }
    },
    {
      "cell_type": "code",
      "source": [
        "torch.save(cnn.state_dict(), '/content/drive/MyDrive/Image Caption Generator/model')\n",
        "torch.save(lstm.state_dict(), '/content/drive/MyDrive/Image Caption Generator/model')\n"
      ],
      "metadata": {
        "id": "D4vdLmALupI7"
      },
      "execution_count": null,
      "outputs": []
    }
  ]
}